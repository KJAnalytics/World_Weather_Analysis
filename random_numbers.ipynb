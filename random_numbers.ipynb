{
 "cells": [
  {
   "cell_type": "code",
   "execution_count": 1,
   "id": "28ed15ee",
   "metadata": {},
   "outputs": [],
   "source": [
    "import random\n"
   ]
  },
  {
   "cell_type": "code",
   "execution_count": 2,
   "id": "48144f3c",
   "metadata": {},
   "outputs": [
    {
     "data": {
      "text/plain": [
       "0.9025600762359933"
      ]
     },
     "execution_count": 2,
     "metadata": {},
     "output_type": "execute_result"
    }
   ],
   "source": [
    "random.random()"
   ]
  },
  {
   "cell_type": "code",
   "execution_count": 3,
   "id": "f8d0cc1c",
   "metadata": {},
   "outputs": [
    {
     "data": {
      "text/plain": [
       "38"
      ]
     },
     "execution_count": 3,
     "metadata": {},
     "output_type": "execute_result"
    }
   ],
   "source": [
    "random.randint(-90,90)"
   ]
  },
  {
   "cell_type": "code",
   "execution_count": 4,
   "id": "b8ad0abf",
   "metadata": {},
   "outputs": [
    {
     "data": {
      "text/plain": [
       "0.4704288743824241"
      ]
     },
     "execution_count": 4,
     "metadata": {},
     "output_type": "execute_result"
    }
   ],
   "source": [
    "random.random()\n"
   ]
  },
  {
   "cell_type": "code",
   "execution_count": 5,
   "id": "c8871a61",
   "metadata": {},
   "outputs": [
    {
     "data": {
      "text/plain": [
       "-44.192034553229966"
      ]
     },
     "execution_count": 5,
     "metadata": {},
     "output_type": "execute_result"
    }
   ],
   "source": [
    "random_number = random.randint(-90,89)+ random.random()\n",
    "random_number"
   ]
  },
  {
   "cell_type": "code",
   "execution_count": 7,
   "id": "2ae05e7a",
   "metadata": {},
   "outputs": [
    {
     "name": "stdout",
     "output_type": "stream",
     "text": [
      "[25.604301932434687]\n",
      "[25.604301932434687, 59.79806927749124]\n",
      "[25.604301932434687, 59.79806927749124, -66.3101235952296]\n",
      "[25.604301932434687, 59.79806927749124, -66.3101235952296, 68.30429715355234]\n",
      "[25.604301932434687, 59.79806927749124, -66.3101235952296, 68.30429715355234, -34.852826070355405]\n",
      "[25.604301932434687, 59.79806927749124, -66.3101235952296, 68.30429715355234, -34.852826070355405, 43.09769843092582]\n",
      "[25.604301932434687, 59.79806927749124, -66.3101235952296, 68.30429715355234, -34.852826070355405, 43.09769843092582, 87.66570035155897]\n",
      "[25.604301932434687, 59.79806927749124, -66.3101235952296, 68.30429715355234, -34.852826070355405, 43.09769843092582, 87.66570035155897, 41.29130769620644]\n",
      "[25.604301932434687, 59.79806927749124, -66.3101235952296, 68.30429715355234, -34.852826070355405, 43.09769843092582, 87.66570035155897, 41.29130769620644, 18.060767319108745]\n",
      "[25.604301932434687, 59.79806927749124, -66.3101235952296, 68.30429715355234, -34.852826070355405, 43.09769843092582, 87.66570035155897, 41.29130769620644, 18.060767319108745, 78.6404920756124]\n"
     ]
    }
   ],
   "source": [
    "x = 1\n",
    "latitudes = []\n",
    "while x < 11:\n",
    "    random_lat = random.randint(-90, 89) + random.random()\n",
    "    latitudes.append(random_lat)\n",
    "    x += 1\n",
    "    \n",
    "    print (latitudes)"
   ]
  },
  {
   "cell_type": "code",
   "execution_count": 8,
   "id": "2c3de033",
   "metadata": {},
   "outputs": [
    {
     "data": {
      "text/plain": [
       "72"
      ]
     },
     "execution_count": 8,
     "metadata": {},
     "output_type": "execute_result"
    }
   ],
   "source": [
    "random.randrange(-90,90, step = 1)"
   ]
  },
  {
   "cell_type": "code",
   "execution_count": 9,
   "id": "bd2e0828",
   "metadata": {},
   "outputs": [
    {
     "data": {
      "text/plain": [
       "51"
      ]
     },
     "execution_count": 9,
     "metadata": {},
     "output_type": "execute_result"
    }
   ],
   "source": [
    "random.randrange(-90, 90, step = 3)"
   ]
  },
  {
   "cell_type": "code",
   "execution_count": 17,
   "id": "a6284e66",
   "metadata": {},
   "outputs": [
    {
     "name": "stdout",
     "output_type": "stream",
     "text": [
      "[64.31346623104878]\n",
      "[64.31346623104878, -36.04042510616979]\n",
      "[64.31346623104878, -36.04042510616979, 1.7932231309457323]\n",
      "[64.31346623104878, -36.04042510616979, 1.7932231309457323, 25.542591999919793]\n",
      "[64.31346623104878, -36.04042510616979, 1.7932231309457323, 25.542591999919793, -66.14434766601622]\n",
      "[64.31346623104878, -36.04042510616979, 1.7932231309457323, 25.542591999919793, -66.14434766601622, -49.67173923229297]\n",
      "[64.31346623104878, -36.04042510616979, 1.7932231309457323, 25.542591999919793, -66.14434766601622, -49.67173923229297, 85.44870669751745]\n",
      "[64.31346623104878, -36.04042510616979, 1.7932231309457323, 25.542591999919793, -66.14434766601622, -49.67173923229297, 85.44870669751745, 40.166585799620705]\n",
      "[64.31346623104878, -36.04042510616979, 1.7932231309457323, 25.542591999919793, -66.14434766601622, -49.67173923229297, 85.44870669751745, 40.166585799620705, -83.41547073169838]\n",
      "[64.31346623104878, -36.04042510616979, 1.7932231309457323, 25.542591999919793, -66.14434766601622, -49.67173923229297, 85.44870669751745, 40.166585799620705, -83.41547073169838, 79.43685493410709]\n"
     ]
    }
   ],
   "source": [
    "x = 1\n",
    "longitudes = []\n",
    "while x < 11:\n",
    "        random_long = random.randint( -90, 89) + random.random()\n",
    "        longitudes.append(random_long)\n",
    "        x += 1\n",
    "  \n",
    "        print (longitudes)"
   ]
  },
  {
   "cell_type": "code",
   "execution_count": 18,
   "id": "7e4ae225",
   "metadata": {},
   "outputs": [
    {
     "data": {
      "text/plain": [
       "-44.071970685909"
      ]
     },
     "execution_count": 18,
     "metadata": {},
     "output_type": "execute_result"
    }
   ],
   "source": [
    "random.uniform(-90, 90)"
   ]
  },
  {
   "cell_type": "code",
   "execution_count": 19,
   "id": "ef5a78de",
   "metadata": {},
   "outputs": [],
   "source": [
    "import numpy as np\n"
   ]
  },
  {
   "cell_type": "code",
   "execution_count": 20,
   "id": "1a236550",
   "metadata": {},
   "outputs": [
    {
     "data": {
      "text/plain": [
       "-37.80704770473556"
      ]
     },
     "execution_count": 20,
     "metadata": {},
     "output_type": "execute_result"
    }
   ],
   "source": [
    "np.random.uniform(-90.000, 90.000)"
   ]
  },
  {
   "cell_type": "code",
   "execution_count": 21,
   "id": "f5fc7674",
   "metadata": {},
   "outputs": [
    {
     "data": {
      "text/plain": [
       "86.4977716363149"
      ]
     },
     "execution_count": 21,
     "metadata": {},
     "output_type": "execute_result"
    }
   ],
   "source": [
    "np.random.uniform(low=-90, high=90)"
   ]
  },
  {
   "cell_type": "code",
   "execution_count": 22,
   "id": "6cb606e9",
   "metadata": {},
   "outputs": [
    {
     "data": {
      "text/plain": [
       "array([-20.47303506,  24.72535621,  59.82650714, -10.03092121,\n",
       "        83.85416159, -26.99672586, -61.40320918, -15.55146398,\n",
       "       -66.58775157,  -2.22339955, -34.34248828,  24.64270525,\n",
       "        58.26631641, -33.95267572,   7.42313214,  62.37629134,\n",
       "        39.38645616, -15.6127403 ,  -9.43893962,  22.92453106,\n",
       "       -35.92634858,  14.91141699, -32.45263901, -12.28622461,\n",
       "       -45.9770108 , -89.04110765,  63.88109891, -26.33669542,\n",
       "       -41.9466578 , -39.41956991,  27.96279019,  -8.00312493,\n",
       "        86.37308664,  29.74136937, -69.29700384,  12.05265418,\n",
       "        10.43429989,  34.67693773,  77.04683208,  30.91434177,\n",
       "        39.6681935 , -85.32370733, -79.90768409,  22.43651049,\n",
       "       -51.97833906,   7.41516062,  81.90568202,  23.71264442,\n",
       "        -7.14584767,  30.2639118 ])"
      ]
     },
     "execution_count": 22,
     "metadata": {},
     "output_type": "execute_result"
    }
   ],
   "source": [
    "np.random.uniform(-90.000, 90.000, size=50)"
   ]
  },
  {
   "cell_type": "code",
   "execution_count": 23,
   "id": "c0a4db2d",
   "metadata": {},
   "outputs": [],
   "source": [
    "import timeit\n"
   ]
  },
  {
   "cell_type": "code",
   "execution_count": 24,
   "id": "6f0d69f6",
   "metadata": {},
   "outputs": [
    {
     "name": "stdout",
     "output_type": "stream",
     "text": [
      "10.3 µs ± 291 ns per loop (mean ± std. dev. of 7 runs, 100000 loops each)\n"
     ]
    }
   ],
   "source": [
    "%timeit np.random.uniform(-90.000, 90.000, size=1500)"
   ]
  },
  {
   "cell_type": "code",
   "execution_count": 25,
   "id": "461eefac",
   "metadata": {},
   "outputs": [
    {
     "name": "stdout",
     "output_type": "stream",
     "text": [
      "1.3 ms ± 20.8 µs per loop (mean ± std. dev. of 7 runs, 1000 loops each)\n"
     ]
    }
   ],
   "source": [
    "def latitudes(size):\n",
    "    latitudes = []\n",
    "    x = 0\n",
    "    while x < (size):\n",
    "        random_lat = random.randint(-90, 90) + random.random()\n",
    "        latitudes.append(random_lat)\n",
    "        x += 1\n",
    "    return latitudes\n",
    "# Call the function with 1500.\n",
    "%timeit latitudes(1500)"
   ]
  },
  {
   "cell_type": "code",
   "execution_count": null,
   "id": "aabce085",
   "metadata": {},
   "outputs": [],
   "source": []
  }
 ],
 "metadata": {
  "kernelspec": {
   "display_name": "PythonData",
   "language": "python",
   "name": "pythondata"
  },
  "language_info": {
   "codemirror_mode": {
    "name": "ipython",
    "version": 3
   },
   "file_extension": ".py",
   "mimetype": "text/x-python",
   "name": "python",
   "nbconvert_exporter": "python",
   "pygments_lexer": "ipython3",
   "version": "3.7.13"
  }
 },
 "nbformat": 4,
 "nbformat_minor": 5
}
